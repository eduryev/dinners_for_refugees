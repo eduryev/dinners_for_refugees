{
 "cells": [
  {
   "cell_type": "code",
   "execution_count": 39,
   "metadata": {
    "collapsed": true
   },
   "outputs": [],
   "source": [
    "import pandas as pd\n",
    "import numpy as np\n",
    "\n",
    "NUM_GUEST_RESPONSES = 90"
   ]
  },
  {
   "cell_type": "code",
   "execution_count": 40,
   "outputs": [
    {
     "name": "stderr",
     "output_type": "stream",
     "text": [
      "<ipython-input-40-749b2007aaa7>:17: VisibleDeprecationWarning: Creating an ndarray from ragged nested sequences (which is a list-or-tuple of lists-or-tuples-or ndarrays with different lengths or shapes) is deprecated. If you meant to do this, you must specify 'dtype=object' when creating the ndarray.\n",
      "  languages_values = np.array(languages_values)\n",
      "<ipython-input-40-749b2007aaa7>:18: VisibleDeprecationWarning: Creating an ndarray from ragged nested sequences (which is a list-or-tuple of lists-or-tuples-or ndarrays with different lengths or shapes) is deprecated. If you meant to do this, you must specify 'dtype=object' when creating the ndarray.\n",
      "  dietary_restriction_values = np.array(dietary_restriction_values)\n"
     ]
    }
   ],
   "source": [
    "from constants import BERLIN_ZIP_CODES, LANGUAGES, DIETARY_RESTRICTIONS\n",
    "\n",
    "zip_code_values = np.random.choice(BERLIN_ZIP_CODES, NUM_GUEST_RESPONSES)\n",
    "num_adults_values = np.random.randint(1 ,5, NUM_GUEST_RESPONSES)\n",
    "num_kids_values = np.random.randint(1, 5, NUM_GUEST_RESPONSES)\n",
    "has_vaccination_values = np.random.choice([False, True], NUM_GUEST_RESPONSES)\n",
    "asks_vaccination_values = np.random.choice([False, True], NUM_GUEST_RESPONSES)\n",
    "asks_transportation_values = np.random.choice([False, True], NUM_GUEST_RESPONSES)\n",
    "has_pets_allergies_values = np.random.choice([False, True], NUM_GUEST_RESPONSES)\n",
    "languages_values = []\n",
    "dietary_restriction_values = []\n",
    "for i in range(NUM_GUEST_RESPONSES):\n",
    "    language_value = np.random.choice(LANGUAGES, np.random.randint(1,len(LANGUAGES)), replace=False)\n",
    "    languages_values.append(language_value)\n",
    "    dietary_restriction_value = np.random.choice(DIETARY_RESTRICTIONS, np.random.randint(1,3), replace=False)\n",
    "    dietary_restriction_values.append(dietary_restriction_value)\n",
    "languages_values = np.array(languages_values)\n",
    "dietary_restriction_values = np.array(dietary_restriction_values)\n",
    "days_since_response_values = np.floor(10*np.random.exponential(1, NUM_GUEST_RESPONSES)).astype(int)"
   ],
   "metadata": {
    "collapsed": false,
    "pycharm": {
     "name": "#%%\n"
    }
   }
  },
  {
   "cell_type": "code",
   "execution_count": 41,
   "outputs": [],
   "source": [
    "guest_responses_df = pd.DataFrame({\n",
    "    'zip_code': zip_code_values,\n",
    "    'num_adults': num_adults_values,\n",
    "    'num_kids': num_kids_values,\n",
    "    'languages': languages_values,\n",
    "    'has_vaccination': has_vaccination_values,\n",
    "    'asks_vaccination': asks_vaccination_values,\n",
    "    'asks_transportation': asks_transportation_values,\n",
    "    'has_pets_allergies': has_pets_allergies_values,\n",
    "    'dietary_restrictions': dietary_restriction_values,\n",
    "    'days_since_response': days_since_response_values\n",
    "})"
   ],
   "metadata": {
    "collapsed": false,
    "pycharm": {
     "name": "#%%\n"
    }
   }
  },
  {
   "cell_type": "code",
   "execution_count": 42,
   "outputs": [
    {
     "data": {
      "text/plain": "    zip_code  num_adults  num_kids                      languages  \\\n0      14050           1         1  [english, ukrainian, russian]   \n1      13351           2         2           [ukrainian, russian]   \n2      10627           4         4   [english, german, ukrainian]   \n3      13189           2         4                    [ukrainian]   \n4      12487           3         3              [german, english]   \n..       ...         ...       ...                            ...   \n85     10823           4         1                       [german]   \n86     13086           3         4                       [german]   \n87     12683           3         4              [russian, german]   \n88     10249           2         1            [ukrainian, german]   \n89     10999           1         3   [ukrainian, russian, german]   \n\n    has_vaccination  asks_vaccination  asks_transportation  \\\n0             False             False                False   \n1             False              True                False   \n2             False             False                 True   \n3              True             False                False   \n4             False              True                 True   \n..              ...               ...                  ...   \n85             True             False                False   \n86             True             False                False   \n87             True             False                False   \n88             True             False                 True   \n89             True             False                False   \n\n    has_pets_allergies dietary_restrictions  days_since_response  \n0                False              [hindu]                   17  \n1                False       [vegan, halal]                    8  \n2                 True              [halal]                    1  \n3                False              [vegan]                    2  \n4                False               [none]                    1  \n..                 ...                  ...                  ...  \n85               False              [vegan]                   13  \n86                True              [vegan]                   11  \n87               False       [vegan, hindu]                   13  \n88                True   [vegetarian, none]                    3  \n89                True              [halal]                    6  \n\n[90 rows x 10 columns]",
      "text/html": "<div>\n<style scoped>\n    .dataframe tbody tr th:only-of-type {\n        vertical-align: middle;\n    }\n\n    .dataframe tbody tr th {\n        vertical-align: top;\n    }\n\n    .dataframe thead th {\n        text-align: right;\n    }\n</style>\n<table border=\"1\" class=\"dataframe\">\n  <thead>\n    <tr style=\"text-align: right;\">\n      <th></th>\n      <th>zip_code</th>\n      <th>num_adults</th>\n      <th>num_kids</th>\n      <th>languages</th>\n      <th>has_vaccination</th>\n      <th>asks_vaccination</th>\n      <th>asks_transportation</th>\n      <th>has_pets_allergies</th>\n      <th>dietary_restrictions</th>\n      <th>days_since_response</th>\n    </tr>\n  </thead>\n  <tbody>\n    <tr>\n      <th>0</th>\n      <td>14050</td>\n      <td>1</td>\n      <td>1</td>\n      <td>[english, ukrainian, russian]</td>\n      <td>False</td>\n      <td>False</td>\n      <td>False</td>\n      <td>False</td>\n      <td>[hindu]</td>\n      <td>17</td>\n    </tr>\n    <tr>\n      <th>1</th>\n      <td>13351</td>\n      <td>2</td>\n      <td>2</td>\n      <td>[ukrainian, russian]</td>\n      <td>False</td>\n      <td>True</td>\n      <td>False</td>\n      <td>False</td>\n      <td>[vegan, halal]</td>\n      <td>8</td>\n    </tr>\n    <tr>\n      <th>2</th>\n      <td>10627</td>\n      <td>4</td>\n      <td>4</td>\n      <td>[english, german, ukrainian]</td>\n      <td>False</td>\n      <td>False</td>\n      <td>True</td>\n      <td>True</td>\n      <td>[halal]</td>\n      <td>1</td>\n    </tr>\n    <tr>\n      <th>3</th>\n      <td>13189</td>\n      <td>2</td>\n      <td>4</td>\n      <td>[ukrainian]</td>\n      <td>True</td>\n      <td>False</td>\n      <td>False</td>\n      <td>False</td>\n      <td>[vegan]</td>\n      <td>2</td>\n    </tr>\n    <tr>\n      <th>4</th>\n      <td>12487</td>\n      <td>3</td>\n      <td>3</td>\n      <td>[german, english]</td>\n      <td>False</td>\n      <td>True</td>\n      <td>True</td>\n      <td>False</td>\n      <td>[none]</td>\n      <td>1</td>\n    </tr>\n    <tr>\n      <th>...</th>\n      <td>...</td>\n      <td>...</td>\n      <td>...</td>\n      <td>...</td>\n      <td>...</td>\n      <td>...</td>\n      <td>...</td>\n      <td>...</td>\n      <td>...</td>\n      <td>...</td>\n    </tr>\n    <tr>\n      <th>85</th>\n      <td>10823</td>\n      <td>4</td>\n      <td>1</td>\n      <td>[german]</td>\n      <td>True</td>\n      <td>False</td>\n      <td>False</td>\n      <td>False</td>\n      <td>[vegan]</td>\n      <td>13</td>\n    </tr>\n    <tr>\n      <th>86</th>\n      <td>13086</td>\n      <td>3</td>\n      <td>4</td>\n      <td>[german]</td>\n      <td>True</td>\n      <td>False</td>\n      <td>False</td>\n      <td>True</td>\n      <td>[vegan]</td>\n      <td>11</td>\n    </tr>\n    <tr>\n      <th>87</th>\n      <td>12683</td>\n      <td>3</td>\n      <td>4</td>\n      <td>[russian, german]</td>\n      <td>True</td>\n      <td>False</td>\n      <td>False</td>\n      <td>False</td>\n      <td>[vegan, hindu]</td>\n      <td>13</td>\n    </tr>\n    <tr>\n      <th>88</th>\n      <td>10249</td>\n      <td>2</td>\n      <td>1</td>\n      <td>[ukrainian, german]</td>\n      <td>True</td>\n      <td>False</td>\n      <td>True</td>\n      <td>True</td>\n      <td>[vegetarian, none]</td>\n      <td>3</td>\n    </tr>\n    <tr>\n      <th>89</th>\n      <td>10999</td>\n      <td>1</td>\n      <td>3</td>\n      <td>[ukrainian, russian, german]</td>\n      <td>True</td>\n      <td>False</td>\n      <td>False</td>\n      <td>True</td>\n      <td>[halal]</td>\n      <td>6</td>\n    </tr>\n  </tbody>\n</table>\n<p>90 rows × 10 columns</p>\n</div>"
     },
     "execution_count": 42,
     "metadata": {},
     "output_type": "execute_result"
    }
   ],
   "source": [
    "guest_responses_df"
   ],
   "metadata": {
    "collapsed": false,
    "pycharm": {
     "name": "#%%\n"
    }
   }
  },
  {
   "cell_type": "code",
   "execution_count": 43,
   "outputs": [],
   "source": [
    "guest_responses_df.to_csv('sample_guest_responses.csv', index=False)"
   ],
   "metadata": {
    "collapsed": false,
    "pycharm": {
     "name": "#%%\n"
    }
   }
  },
  {
   "cell_type": "code",
   "execution_count": 44,
   "outputs": [
    {
     "data": {
      "text/plain": "    zip_code  num_adults  num_kids                          languages  \\\n0      14050           1         1  ['english' 'ukrainian' 'russian']   \n1      13351           2         2            ['ukrainian' 'russian']   \n2      10627           4         4   ['english' 'german' 'ukrainian']   \n3      13189           2         4                      ['ukrainian']   \n4      12487           3         3               ['german' 'english']   \n..       ...         ...       ...                                ...   \n85     10823           4         1                         ['german']   \n86     13086           3         4                         ['german']   \n87     12683           3         4               ['russian' 'german']   \n88     10249           2         1             ['ukrainian' 'german']   \n89     10999           1         3   ['ukrainian' 'russian' 'german']   \n\n    has_vaccination  asks_vaccination  asks_transportation  \\\n0             False             False                False   \n1             False              True                False   \n2             False             False                 True   \n3              True             False                False   \n4             False              True                 True   \n..              ...               ...                  ...   \n85             True             False                False   \n86             True             False                False   \n87             True             False                False   \n88             True             False                 True   \n89             True             False                False   \n\n    has_pets_allergies   dietary_restrictions  days_since_response  \n0                False              ['hindu']                   17  \n1                False      ['vegan' 'halal']                    8  \n2                 True              ['halal']                    1  \n3                False              ['vegan']                    2  \n4                False               ['none']                    1  \n..                 ...                    ...                  ...  \n85               False              ['vegan']                   13  \n86                True              ['vegan']                   11  \n87               False      ['vegan' 'hindu']                   13  \n88                True  ['vegetarian' 'none']                    3  \n89                True              ['halal']                    6  \n\n[90 rows x 10 columns]",
      "text/html": "<div>\n<style scoped>\n    .dataframe tbody tr th:only-of-type {\n        vertical-align: middle;\n    }\n\n    .dataframe tbody tr th {\n        vertical-align: top;\n    }\n\n    .dataframe thead th {\n        text-align: right;\n    }\n</style>\n<table border=\"1\" class=\"dataframe\">\n  <thead>\n    <tr style=\"text-align: right;\">\n      <th></th>\n      <th>zip_code</th>\n      <th>num_adults</th>\n      <th>num_kids</th>\n      <th>languages</th>\n      <th>has_vaccination</th>\n      <th>asks_vaccination</th>\n      <th>asks_transportation</th>\n      <th>has_pets_allergies</th>\n      <th>dietary_restrictions</th>\n      <th>days_since_response</th>\n    </tr>\n  </thead>\n  <tbody>\n    <tr>\n      <th>0</th>\n      <td>14050</td>\n      <td>1</td>\n      <td>1</td>\n      <td>['english' 'ukrainian' 'russian']</td>\n      <td>False</td>\n      <td>False</td>\n      <td>False</td>\n      <td>False</td>\n      <td>['hindu']</td>\n      <td>17</td>\n    </tr>\n    <tr>\n      <th>1</th>\n      <td>13351</td>\n      <td>2</td>\n      <td>2</td>\n      <td>['ukrainian' 'russian']</td>\n      <td>False</td>\n      <td>True</td>\n      <td>False</td>\n      <td>False</td>\n      <td>['vegan' 'halal']</td>\n      <td>8</td>\n    </tr>\n    <tr>\n      <th>2</th>\n      <td>10627</td>\n      <td>4</td>\n      <td>4</td>\n      <td>['english' 'german' 'ukrainian']</td>\n      <td>False</td>\n      <td>False</td>\n      <td>True</td>\n      <td>True</td>\n      <td>['halal']</td>\n      <td>1</td>\n    </tr>\n    <tr>\n      <th>3</th>\n      <td>13189</td>\n      <td>2</td>\n      <td>4</td>\n      <td>['ukrainian']</td>\n      <td>True</td>\n      <td>False</td>\n      <td>False</td>\n      <td>False</td>\n      <td>['vegan']</td>\n      <td>2</td>\n    </tr>\n    <tr>\n      <th>4</th>\n      <td>12487</td>\n      <td>3</td>\n      <td>3</td>\n      <td>['german' 'english']</td>\n      <td>False</td>\n      <td>True</td>\n      <td>True</td>\n      <td>False</td>\n      <td>['none']</td>\n      <td>1</td>\n    </tr>\n    <tr>\n      <th>...</th>\n      <td>...</td>\n      <td>...</td>\n      <td>...</td>\n      <td>...</td>\n      <td>...</td>\n      <td>...</td>\n      <td>...</td>\n      <td>...</td>\n      <td>...</td>\n      <td>...</td>\n    </tr>\n    <tr>\n      <th>85</th>\n      <td>10823</td>\n      <td>4</td>\n      <td>1</td>\n      <td>['german']</td>\n      <td>True</td>\n      <td>False</td>\n      <td>False</td>\n      <td>False</td>\n      <td>['vegan']</td>\n      <td>13</td>\n    </tr>\n    <tr>\n      <th>86</th>\n      <td>13086</td>\n      <td>3</td>\n      <td>4</td>\n      <td>['german']</td>\n      <td>True</td>\n      <td>False</td>\n      <td>False</td>\n      <td>True</td>\n      <td>['vegan']</td>\n      <td>11</td>\n    </tr>\n    <tr>\n      <th>87</th>\n      <td>12683</td>\n      <td>3</td>\n      <td>4</td>\n      <td>['russian' 'german']</td>\n      <td>True</td>\n      <td>False</td>\n      <td>False</td>\n      <td>False</td>\n      <td>['vegan' 'hindu']</td>\n      <td>13</td>\n    </tr>\n    <tr>\n      <th>88</th>\n      <td>10249</td>\n      <td>2</td>\n      <td>1</td>\n      <td>['ukrainian' 'german']</td>\n      <td>True</td>\n      <td>False</td>\n      <td>True</td>\n      <td>True</td>\n      <td>['vegetarian' 'none']</td>\n      <td>3</td>\n    </tr>\n    <tr>\n      <th>89</th>\n      <td>10999</td>\n      <td>1</td>\n      <td>3</td>\n      <td>['ukrainian' 'russian' 'german']</td>\n      <td>True</td>\n      <td>False</td>\n      <td>False</td>\n      <td>True</td>\n      <td>['halal']</td>\n      <td>6</td>\n    </tr>\n  </tbody>\n</table>\n<p>90 rows × 10 columns</p>\n</div>"
     },
     "execution_count": 44,
     "metadata": {},
     "output_type": "execute_result"
    }
   ],
   "source": [
    "guest_responses_df = pd.read_csv('sample_guest_responses.csv')\n",
    "guest_responses_df"
   ],
   "metadata": {
    "collapsed": false,
    "pycharm": {
     "name": "#%%\n"
    }
   }
  },
  {
   "cell_type": "code",
   "execution_count": 45,
   "outputs": [
    {
     "data": {
      "text/plain": "<guest_response.GuestResponse at 0x7ff3b35f1bb0>"
     },
     "execution_count": 45,
     "metadata": {},
     "output_type": "execute_result"
    }
   ],
   "source": [
    "from guest_response import GuestResponse\n",
    "GuestResponse(**dict(guest_responses_df.iloc[0]))"
   ],
   "metadata": {
    "collapsed": false,
    "pycharm": {
     "name": "#%%\n"
    }
   }
  },
  {
   "cell_type": "code",
   "execution_count": null,
   "outputs": [],
   "source": [],
   "metadata": {
    "collapsed": false,
    "pycharm": {
     "name": "#%%\n"
    }
   }
  }
 ],
 "metadata": {
  "kernelspec": {
   "display_name": "Python 3",
   "language": "python",
   "name": "python3"
  },
  "language_info": {
   "codemirror_mode": {
    "name": "ipython",
    "version": 2
   },
   "file_extension": ".py",
   "mimetype": "text/x-python",
   "name": "python",
   "nbconvert_exporter": "python",
   "pygments_lexer": "ipython2",
   "version": "2.7.6"
  }
 },
 "nbformat": 4,
 "nbformat_minor": 0
}