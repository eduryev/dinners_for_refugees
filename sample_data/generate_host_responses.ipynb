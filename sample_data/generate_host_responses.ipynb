{
 "cells": [
  {
   "cell_type": "code",
   "execution_count": 1,
   "metadata": {
    "collapsed": true
   },
   "outputs": [],
   "source": [
    "import pandas as pd\n",
    "import numpy as np\n",
    "\n",
    "NUM_HOST_RESPONSES = 100"
   ]
  },
  {
   "cell_type": "code",
   "execution_count": 2,
   "outputs": [
    {
     "name": "stderr",
     "output_type": "stream",
     "text": [
      "<ipython-input-2-927fc2d228f8>:17: VisibleDeprecationWarning: Creating an ndarray from ragged nested sequences (which is a list-or-tuple of lists-or-tuples-or ndarrays with different lengths or shapes) is deprecated. If you meant to do this, you must specify 'dtype=object' when creating the ndarray.\n",
      "  languages_values = np.array(languages_values)\n",
      "<ipython-input-2-927fc2d228f8>:18: VisibleDeprecationWarning: Creating an ndarray from ragged nested sequences (which is a list-or-tuple of lists-or-tuples-or ndarrays with different lengths or shapes) is deprecated. If you meant to do this, you must specify 'dtype=object' when creating the ndarray.\n",
      "  dietary_restriction_values = np.array(dietary_accommodation_values)\n"
     ]
    }
   ],
   "source": [
    "from constants import BERLIN_ZIP_CODES, LANGUAGES, DIETARY_ACCOMMODATIONS\n",
    "\n",
    "zip_code_values = np.random.choice(BERLIN_ZIP_CODES, NUM_HOST_RESPONSES)\n",
    "max_num_ppl_values = np.random.randint(1, 10, NUM_HOST_RESPONSES)\n",
    "is_kids_friendly_values = np.random.choice([False, True], NUM_HOST_RESPONSES)\n",
    "has_vaccination_values = np.random.choice([False, True], NUM_HOST_RESPONSES)\n",
    "asks_vaccination_values = np.random.choice([False, True], NUM_HOST_RESPONSES)\n",
    "provides_transportation_values = np.random.choice([False, True], NUM_HOST_RESPONSES)\n",
    "has_pets_values = np.random.choice([False, True], NUM_HOST_RESPONSES)\n",
    "languages_values = []\n",
    "dietary_accommodation_values = []\n",
    "for i in range(NUM_HOST_RESPONSES):\n",
    "    language_value = np.random.choice(LANGUAGES, np.random.randint(1,len(LANGUAGES)), replace=False)\n",
    "    languages_values.append(language_value)\n",
    "    dietary_accommodation_value = np.random.choice(DIETARY_ACCOMMODATIONS, np.random.randint(1,3), replace=False)\n",
    "    dietary_accommodation_values.append(dietary_accommodation_value)\n",
    "languages_values = np.array(languages_values)\n",
    "dietary_restriction_values = np.array(dietary_accommodation_values)\n",
    "days_since_response_values = np.floor(10*np.random.exponential(1, NUM_HOST_RESPONSES)).astype(int)"
   ],
   "metadata": {
    "collapsed": false,
    "pycharm": {
     "name": "#%%\n"
    }
   }
  },
  {
   "cell_type": "code",
   "execution_count": 3,
   "outputs": [],
   "source": [
    "host_responses_df = pd.DataFrame({\n",
    "    'zip_code': zip_code_values,\n",
    "    'max_num_ppl': max_num_ppl_values,\n",
    "    'is_kids_friendly': is_kids_friendly_values,\n",
    "    'languages': languages_values,\n",
    "    'has_vaccination': has_vaccination_values,\n",
    "    'asks_vaccination': asks_vaccination_values,\n",
    "    'provides_transportation': provides_transportation_values,\n",
    "    'has_pets': has_pets_values,\n",
    "    'dietary_accommodations': dietary_accommodation_values,\n",
    "    'days_since_response': days_since_response_values\n",
    "})"
   ],
   "metadata": {
    "collapsed": false,
    "pycharm": {
     "name": "#%%\n"
    }
   }
  },
  {
   "cell_type": "code",
   "execution_count": 4,
   "outputs": [
    {
     "data": {
      "text/plain": "    zip_code  max_num_ppl  is_kids_friendly                     languages  \\\n0      13587            9              True                      [german]   \n1      10115            5             False                      [german]   \n2      14089            8              True          [russian, ukrainian]   \n3      10963            8              True                     [english]   \n4      10711            1             False                     [russian]   \n..       ...          ...               ...                           ...   \n95     10245            3              True             [russian, german]   \n96     10317            1             False                   [ukrainian]   \n97     12169            1             False           [german, ukrainian]   \n98     12689            7             False  [german, ukrainian, english]   \n99     13581            7              True                     [english]   \n\n    has_vaccination  asks_vaccination  provides_transportation  has_pets  \\\n0             False              True                     True      True   \n1              True              True                     True     False   \n2              True              True                     True     False   \n3              True             False                    False     False   \n4             False             False                     True      True   \n..              ...               ...                      ...       ...   \n95            False              True                     True     False   \n96             True             False                     True      True   \n97             True              True                    False     False   \n98            False              True                    False     False   \n99             True             False                     True     False   \n\n   dietary_accommodations  days_since_response  \n0                 [hindu]                    7  \n1                 [halal]                    3  \n2            [vegetarian]                   20  \n3         [kosher, hindu]                   11  \n4          [vegan, halal]                    6  \n..                    ...                  ...  \n95                [hindu]                    2  \n96                [hindu]                    2  \n97   [vegetarian, kosher]                    0  \n98        [hindu, kosher]                   15  \n99    [vegan, vegetarian]                    9  \n\n[100 rows x 10 columns]",
      "text/html": "<div>\n<style scoped>\n    .dataframe tbody tr th:only-of-type {\n        vertical-align: middle;\n    }\n\n    .dataframe tbody tr th {\n        vertical-align: top;\n    }\n\n    .dataframe thead th {\n        text-align: right;\n    }\n</style>\n<table border=\"1\" class=\"dataframe\">\n  <thead>\n    <tr style=\"text-align: right;\">\n      <th></th>\n      <th>zip_code</th>\n      <th>max_num_ppl</th>\n      <th>is_kids_friendly</th>\n      <th>languages</th>\n      <th>has_vaccination</th>\n      <th>asks_vaccination</th>\n      <th>provides_transportation</th>\n      <th>has_pets</th>\n      <th>dietary_accommodations</th>\n      <th>days_since_response</th>\n    </tr>\n  </thead>\n  <tbody>\n    <tr>\n      <th>0</th>\n      <td>13587</td>\n      <td>9</td>\n      <td>True</td>\n      <td>[german]</td>\n      <td>False</td>\n      <td>True</td>\n      <td>True</td>\n      <td>True</td>\n      <td>[hindu]</td>\n      <td>7</td>\n    </tr>\n    <tr>\n      <th>1</th>\n      <td>10115</td>\n      <td>5</td>\n      <td>False</td>\n      <td>[german]</td>\n      <td>True</td>\n      <td>True</td>\n      <td>True</td>\n      <td>False</td>\n      <td>[halal]</td>\n      <td>3</td>\n    </tr>\n    <tr>\n      <th>2</th>\n      <td>14089</td>\n      <td>8</td>\n      <td>True</td>\n      <td>[russian, ukrainian]</td>\n      <td>True</td>\n      <td>True</td>\n      <td>True</td>\n      <td>False</td>\n      <td>[vegetarian]</td>\n      <td>20</td>\n    </tr>\n    <tr>\n      <th>3</th>\n      <td>10963</td>\n      <td>8</td>\n      <td>True</td>\n      <td>[english]</td>\n      <td>True</td>\n      <td>False</td>\n      <td>False</td>\n      <td>False</td>\n      <td>[kosher, hindu]</td>\n      <td>11</td>\n    </tr>\n    <tr>\n      <th>4</th>\n      <td>10711</td>\n      <td>1</td>\n      <td>False</td>\n      <td>[russian]</td>\n      <td>False</td>\n      <td>False</td>\n      <td>True</td>\n      <td>True</td>\n      <td>[vegan, halal]</td>\n      <td>6</td>\n    </tr>\n    <tr>\n      <th>...</th>\n      <td>...</td>\n      <td>...</td>\n      <td>...</td>\n      <td>...</td>\n      <td>...</td>\n      <td>...</td>\n      <td>...</td>\n      <td>...</td>\n      <td>...</td>\n      <td>...</td>\n    </tr>\n    <tr>\n      <th>95</th>\n      <td>10245</td>\n      <td>3</td>\n      <td>True</td>\n      <td>[russian, german]</td>\n      <td>False</td>\n      <td>True</td>\n      <td>True</td>\n      <td>False</td>\n      <td>[hindu]</td>\n      <td>2</td>\n    </tr>\n    <tr>\n      <th>96</th>\n      <td>10317</td>\n      <td>1</td>\n      <td>False</td>\n      <td>[ukrainian]</td>\n      <td>True</td>\n      <td>False</td>\n      <td>True</td>\n      <td>True</td>\n      <td>[hindu]</td>\n      <td>2</td>\n    </tr>\n    <tr>\n      <th>97</th>\n      <td>12169</td>\n      <td>1</td>\n      <td>False</td>\n      <td>[german, ukrainian]</td>\n      <td>True</td>\n      <td>True</td>\n      <td>False</td>\n      <td>False</td>\n      <td>[vegetarian, kosher]</td>\n      <td>0</td>\n    </tr>\n    <tr>\n      <th>98</th>\n      <td>12689</td>\n      <td>7</td>\n      <td>False</td>\n      <td>[german, ukrainian, english]</td>\n      <td>False</td>\n      <td>True</td>\n      <td>False</td>\n      <td>False</td>\n      <td>[hindu, kosher]</td>\n      <td>15</td>\n    </tr>\n    <tr>\n      <th>99</th>\n      <td>13581</td>\n      <td>7</td>\n      <td>True</td>\n      <td>[english]</td>\n      <td>True</td>\n      <td>False</td>\n      <td>True</td>\n      <td>False</td>\n      <td>[vegan, vegetarian]</td>\n      <td>9</td>\n    </tr>\n  </tbody>\n</table>\n<p>100 rows × 10 columns</p>\n</div>"
     },
     "execution_count": 4,
     "metadata": {},
     "output_type": "execute_result"
    }
   ],
   "source": [
    "host_responses_df"
   ],
   "metadata": {
    "collapsed": false,
    "pycharm": {
     "name": "#%%\n"
    }
   }
  },
  {
   "cell_type": "code",
   "execution_count": 5,
   "outputs": [],
   "source": [
    "host_responses_df.to_csv('sample_host_responses.csv', index=False)"
   ],
   "metadata": {
    "collapsed": false,
    "pycharm": {
     "name": "#%%\n"
    }
   }
  },
  {
   "cell_type": "code",
   "execution_count": 6,
   "outputs": [
    {
     "data": {
      "text/plain": "    zip_code  max_num_ppl  is_kids_friendly                         languages  \\\n0      13587            9              True                        ['german']   \n1      10115            5             False                        ['german']   \n2      14089            8              True           ['russian' 'ukrainian']   \n3      10963            8              True                       ['english']   \n4      10711            1             False                       ['russian']   \n..       ...          ...               ...                               ...   \n95     10245            3              True              ['russian' 'german']   \n96     10317            1             False                     ['ukrainian']   \n97     12169            1             False            ['german' 'ukrainian']   \n98     12689            7             False  ['german' 'ukrainian' 'english']   \n99     13581            7              True                       ['english']   \n\n    has_vaccination  asks_vaccination  provides_transportation  has_pets  \\\n0             False              True                     True      True   \n1              True              True                     True     False   \n2              True              True                     True     False   \n3              True             False                    False     False   \n4             False             False                     True      True   \n..              ...               ...                      ...       ...   \n95            False              True                     True     False   \n96             True             False                     True      True   \n97             True              True                    False     False   \n98            False              True                    False     False   \n99             True             False                     True     False   \n\n     dietary_accommodations  days_since_response  \n0                 ['hindu']                    7  \n1                 ['halal']                    3  \n2            ['vegetarian']                   20  \n3        ['kosher' 'hindu']                   11  \n4         ['vegan' 'halal']                    6  \n..                      ...                  ...  \n95                ['hindu']                    2  \n96                ['hindu']                    2  \n97  ['vegetarian' 'kosher']                    0  \n98       ['hindu' 'kosher']                   15  \n99   ['vegan' 'vegetarian']                    9  \n\n[100 rows x 10 columns]",
      "text/html": "<div>\n<style scoped>\n    .dataframe tbody tr th:only-of-type {\n        vertical-align: middle;\n    }\n\n    .dataframe tbody tr th {\n        vertical-align: top;\n    }\n\n    .dataframe thead th {\n        text-align: right;\n    }\n</style>\n<table border=\"1\" class=\"dataframe\">\n  <thead>\n    <tr style=\"text-align: right;\">\n      <th></th>\n      <th>zip_code</th>\n      <th>max_num_ppl</th>\n      <th>is_kids_friendly</th>\n      <th>languages</th>\n      <th>has_vaccination</th>\n      <th>asks_vaccination</th>\n      <th>provides_transportation</th>\n      <th>has_pets</th>\n      <th>dietary_accommodations</th>\n      <th>days_since_response</th>\n    </tr>\n  </thead>\n  <tbody>\n    <tr>\n      <th>0</th>\n      <td>13587</td>\n      <td>9</td>\n      <td>True</td>\n      <td>['german']</td>\n      <td>False</td>\n      <td>True</td>\n      <td>True</td>\n      <td>True</td>\n      <td>['hindu']</td>\n      <td>7</td>\n    </tr>\n    <tr>\n      <th>1</th>\n      <td>10115</td>\n      <td>5</td>\n      <td>False</td>\n      <td>['german']</td>\n      <td>True</td>\n      <td>True</td>\n      <td>True</td>\n      <td>False</td>\n      <td>['halal']</td>\n      <td>3</td>\n    </tr>\n    <tr>\n      <th>2</th>\n      <td>14089</td>\n      <td>8</td>\n      <td>True</td>\n      <td>['russian' 'ukrainian']</td>\n      <td>True</td>\n      <td>True</td>\n      <td>True</td>\n      <td>False</td>\n      <td>['vegetarian']</td>\n      <td>20</td>\n    </tr>\n    <tr>\n      <th>3</th>\n      <td>10963</td>\n      <td>8</td>\n      <td>True</td>\n      <td>['english']</td>\n      <td>True</td>\n      <td>False</td>\n      <td>False</td>\n      <td>False</td>\n      <td>['kosher' 'hindu']</td>\n      <td>11</td>\n    </tr>\n    <tr>\n      <th>4</th>\n      <td>10711</td>\n      <td>1</td>\n      <td>False</td>\n      <td>['russian']</td>\n      <td>False</td>\n      <td>False</td>\n      <td>True</td>\n      <td>True</td>\n      <td>['vegan' 'halal']</td>\n      <td>6</td>\n    </tr>\n    <tr>\n      <th>...</th>\n      <td>...</td>\n      <td>...</td>\n      <td>...</td>\n      <td>...</td>\n      <td>...</td>\n      <td>...</td>\n      <td>...</td>\n      <td>...</td>\n      <td>...</td>\n      <td>...</td>\n    </tr>\n    <tr>\n      <th>95</th>\n      <td>10245</td>\n      <td>3</td>\n      <td>True</td>\n      <td>['russian' 'german']</td>\n      <td>False</td>\n      <td>True</td>\n      <td>True</td>\n      <td>False</td>\n      <td>['hindu']</td>\n      <td>2</td>\n    </tr>\n    <tr>\n      <th>96</th>\n      <td>10317</td>\n      <td>1</td>\n      <td>False</td>\n      <td>['ukrainian']</td>\n      <td>True</td>\n      <td>False</td>\n      <td>True</td>\n      <td>True</td>\n      <td>['hindu']</td>\n      <td>2</td>\n    </tr>\n    <tr>\n      <th>97</th>\n      <td>12169</td>\n      <td>1</td>\n      <td>False</td>\n      <td>['german' 'ukrainian']</td>\n      <td>True</td>\n      <td>True</td>\n      <td>False</td>\n      <td>False</td>\n      <td>['vegetarian' 'kosher']</td>\n      <td>0</td>\n    </tr>\n    <tr>\n      <th>98</th>\n      <td>12689</td>\n      <td>7</td>\n      <td>False</td>\n      <td>['german' 'ukrainian' 'english']</td>\n      <td>False</td>\n      <td>True</td>\n      <td>False</td>\n      <td>False</td>\n      <td>['hindu' 'kosher']</td>\n      <td>15</td>\n    </tr>\n    <tr>\n      <th>99</th>\n      <td>13581</td>\n      <td>7</td>\n      <td>True</td>\n      <td>['english']</td>\n      <td>True</td>\n      <td>False</td>\n      <td>True</td>\n      <td>False</td>\n      <td>['vegan' 'vegetarian']</td>\n      <td>9</td>\n    </tr>\n  </tbody>\n</table>\n<p>100 rows × 10 columns</p>\n</div>"
     },
     "execution_count": 6,
     "metadata": {},
     "output_type": "execute_result"
    }
   ],
   "source": [
    "host_responses_df = pd.read_csv('sample_host_responses.csv')\n",
    "host_responses_df"
   ],
   "metadata": {
    "collapsed": false,
    "pycharm": {
     "name": "#%%\n"
    }
   }
  },
  {
   "cell_type": "code",
   "execution_count": 7,
   "outputs": [
    {
     "data": {
      "text/plain": "{'zip_code': 13587,\n 'max_num_ppl': 9,\n 'is_kids_friendly': True,\n 'languages': \"['german']\",\n 'has_vaccination': False,\n 'asks_vaccination': True,\n 'provides_transportation': True,\n 'has_pets': True,\n 'dietary_accommodations': \"['hindu']\",\n 'days_since_response': 7}"
     },
     "execution_count": 7,
     "metadata": {},
     "output_type": "execute_result"
    }
   ],
   "source": [
    "dict(host_responses_df.iloc[0])"
   ],
   "metadata": {
    "collapsed": false,
    "pycharm": {
     "name": "#%%\n"
    }
   }
  },
  {
   "cell_type": "code",
   "execution_count": 8,
   "outputs": [
    {
     "data": {
      "text/plain": "<host_response.HostResponse at 0x7f963e000c10>"
     },
     "execution_count": 8,
     "metadata": {},
     "output_type": "execute_result"
    }
   ],
   "source": [
    "from host_response import HostResponse\n",
    "HostResponse(**dict(host_responses_df.iloc[0]))"
   ],
   "metadata": {
    "collapsed": false,
    "pycharm": {
     "name": "#%%\n"
    }
   }
  },
  {
   "cell_type": "code",
   "execution_count": null,
   "outputs": [],
   "source": [],
   "metadata": {
    "collapsed": false,
    "pycharm": {
     "name": "#%%\n"
    }
   }
  }
 ],
 "metadata": {
  "kernelspec": {
   "display_name": "Python 3",
   "language": "python",
   "name": "python3"
  },
  "language_info": {
   "codemirror_mode": {
    "name": "ipython",
    "version": 2
   },
   "file_extension": ".py",
   "mimetype": "text/x-python",
   "name": "python",
   "nbconvert_exporter": "python",
   "pygments_lexer": "ipython2",
   "version": "2.7.6"
  }
 },
 "nbformat": 4,
 "nbformat_minor": 0
}